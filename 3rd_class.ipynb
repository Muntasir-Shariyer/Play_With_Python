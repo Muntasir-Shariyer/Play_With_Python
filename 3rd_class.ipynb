{
  "nbformat": 4,
  "nbformat_minor": 0,
  "metadata": {
    "colab": {
      "provenance": [],
      "collapsed_sections": [
        "cmzN9Ygc6qxK",
        "YVlKB-kKDR9u"
      ]
    },
    "kernelspec": {
      "name": "python3",
      "display_name": "Python 3"
    },
    "language_info": {
      "name": "python"
    }
  },
  "cells": [
    {
      "cell_type": "code",
      "execution_count": null,
      "metadata": {
        "id": "Dpdqr0yCp_2W"
      },
      "outputs": [],
      "source": []
    },
    {
      "cell_type": "markdown",
      "source": [
        "# List"
      ],
      "metadata": {
        "id": "4vWJQGSMqGA2"
      }
    },
    {
      "cell_type": "code",
      "source": [
        "thislist = [\"apple\", \"banana\", \"cherry\"]\n",
        "print(thislist)\n",
        "\n",
        "\n"
      ],
      "metadata": {
        "colab": {
          "base_uri": "https://localhost:8080/"
        },
        "id": "tuP6jKtbqGt2",
        "outputId": "2233841d-2687-464c-ac09-d02ba23d4f6a"
      },
      "execution_count": null,
      "outputs": [
        {
          "output_type": "stream",
          "name": "stdout",
          "text": [
            "['apple', 'banana', 'cherry']\n"
          ]
        }
      ]
    },
    {
      "cell_type": "code",
      "source": [
        "thislist = [\"apple\", \"banana\", \"cherry\", \"apple\", \"cherry\"] # list allow duplicate value\n",
        "print(thislist)\n",
        "\n"
      ],
      "metadata": {
        "colab": {
          "base_uri": "https://localhost:8080/"
        },
        "id": "uJf72ZqJrtmG",
        "outputId": "3f9e5a4c-02df-43dc-ed02-ad9308d64af1"
      },
      "execution_count": null,
      "outputs": [
        {
          "output_type": "stream",
          "name": "stdout",
          "text": [
            "['apple', 'banana', 'cherry', 'apple', 'cherry']\n"
          ]
        }
      ]
    },
    {
      "cell_type": "code",
      "source": [
        "thislist = [\"apple\", \"banana\", \"cherry\"]\n",
        "print(len(thislist)) #count number of the items in list or the list length\n"
      ],
      "metadata": {
        "colab": {
          "base_uri": "https://localhost:8080/"
        },
        "id": "PVymoo6Trwh9",
        "outputId": "27784fb0-bc68-4340-d76b-429e3852566d"
      },
      "execution_count": null,
      "outputs": [
        {
          "output_type": "stream",
          "name": "stdout",
          "text": [
            "3\n"
          ]
        }
      ]
    },
    {
      "cell_type": "markdown",
      "source": [
        "A list can contain  along different data types such as string,int,float,boolean,set,tupple,dictionary"
      ],
      "metadata": {
        "id": "fZJWz6dOsHP1"
      }
    },
    {
      "cell_type": "code",
      "source": [
        "list1 = [\"apple\", \"banana\", \"cherry\"]\n",
        "list2 = [1, 5, 7, 9, 3]\n",
        "list3 = [True, False, False]\n",
        "\n",
        "list4 = [\"abc\", 34, True, 40, \"male\"]"
      ],
      "metadata": {
        "id": "qhEZckIzr04k"
      },
      "execution_count": null,
      "outputs": []
    },
    {
      "cell_type": "code",
      "source": [
        "mylist = [\"apple\", \"banana\", \"cherry\"]\n",
        "print(type(mylist)) #check the data type"
      ],
      "metadata": {
        "colab": {
          "base_uri": "https://localhost:8080/"
        },
        "id": "8Udm-jSvtCru",
        "outputId": "781ac2dc-4301-4853-c8fa-8d9cb6c60f7d"
      },
      "execution_count": null,
      "outputs": [
        {
          "output_type": "stream",
          "name": "stdout",
          "text": [
            "<class 'list'>\n"
          ]
        }
      ]
    },
    {
      "cell_type": "markdown",
      "source": [
        "## **List Constructor**"
      ],
      "metadata": {
        "id": "pdDva34fsb9m"
      }
    },
    {
      "cell_type": "code",
      "source": [
        "thislist = list((\"apple\", \"banana\", \"cherry\")) # put the tuple in the list\n",
        "print(thislist)"
      ],
      "metadata": {
        "colab": {
          "base_uri": "https://localhost:8080/"
        },
        "id": "cI8JNwRGsa0M",
        "outputId": "7184c2d7-6361-431f-9e9f-af3f7f1dc2e8"
      },
      "execution_count": null,
      "outputs": [
        {
          "output_type": "stream",
          "name": "stdout",
          "text": [
            "['apple', 'banana', 'cherry']\n"
          ]
        }
      ]
    },
    {
      "cell_type": "code",
      "source": [
        "tupple=(\"apple\", \"banana\", \"cherry\") \n",
        "print(list(tupple)) "
      ],
      "metadata": {
        "colab": {
          "base_uri": "https://localhost:8080/"
        },
        "id": "Tg9J9bRRt0Z1",
        "outputId": "6d8a2bf6-89f3-495b-dbe4-26b547e66abb"
      },
      "execution_count": null,
      "outputs": [
        {
          "output_type": "stream",
          "name": "stdout",
          "text": [
            "['apple', 'banana', 'cherry']\n"
          ]
        }
      ]
    },
    {
      "cell_type": "markdown",
      "source": [
        "# Python - Access List Items"
      ],
      "metadata": {
        "id": "OwpaHSslup91"
      }
    },
    {
      "cell_type": "code",
      "source": [
        "thislist = [\"apple\", \"banana\", \"cherry\"]\n",
        "print(thislist[1])"
      ],
      "metadata": {
        "colab": {
          "base_uri": "https://localhost:8080/"
        },
        "id": "cJaa-YESu1Dt",
        "outputId": "1d7122bb-86bd-4aaf-c0f2-a7b59e74a8cd"
      },
      "execution_count": null,
      "outputs": [
        {
          "output_type": "stream",
          "name": "stdout",
          "text": [
            "banana\n"
          ]
        }
      ]
    },
    {
      "cell_type": "code",
      "source": [
        "thislist = [\"apple\", \"banana\", \"cherry\"]\n",
        "print(thislist[-3]) # negative indexing i.e. start from the end\n"
      ],
      "metadata": {
        "colab": {
          "base_uri": "https://localhost:8080/"
        },
        "id": "CM_ZZnEk4WEX",
        "outputId": "e9e9a237-4e59-41d0-ec89-f6f0a003d33d"
      },
      "execution_count": null,
      "outputs": [
        {
          "output_type": "stream",
          "name": "stdout",
          "text": [
            "apple\n"
          ]
        }
      ]
    },
    {
      "cell_type": "code",
      "source": [
        "thislist = [\"apple\", \"banana\", \"cherry\", \"orange\", \"kiwi\", \"melon\", \"mango\"]\n",
        "print(thislist[2:5]) #index slicing or range of indexes"
      ],
      "metadata": {
        "colab": {
          "base_uri": "https://localhost:8080/"
        },
        "id": "claSHL454vMf",
        "outputId": "b0077fff-bd21-441c-a100-5077922cccd1"
      },
      "execution_count": null,
      "outputs": [
        {
          "output_type": "stream",
          "name": "stdout",
          "text": [
            "['cherry', 'orange', 'kiwi']\n"
          ]
        }
      ]
    },
    {
      "cell_type": "code",
      "source": [
        "thislist = [\"apple\", \"banana\", \"cherry\", \"orange\", \"kiwi\", \"melon\", \"mango\"]\n",
        "print(thislist[:4]) # range of index: 0 to <4 i.e. 0 1 2 3"
      ],
      "metadata": {
        "colab": {
          "base_uri": "https://localhost:8080/"
        },
        "id": "QoEDQECD5MOf",
        "outputId": "1e53f194-5a7e-467f-838f-fd9fcfaaab21"
      },
      "execution_count": null,
      "outputs": [
        {
          "output_type": "stream",
          "name": "stdout",
          "text": [
            "['apple', 'banana', 'cherry', 'orange']\n"
          ]
        }
      ]
    },
    {
      "cell_type": "code",
      "source": [
        "thislist = [\"apple\", \"banana\", \"cherry\", \"orange\", \"kiwi\", \"melon\", \"mango\"]\n",
        "print(thislist[2:]) # range of index: 2 to end of the list"
      ],
      "metadata": {
        "colab": {
          "base_uri": "https://localhost:8080/"
        },
        "id": "0hwmgPkN5pjH",
        "outputId": "80ea5bbe-0e68-4ea9-8836-8c3507c37e59"
      },
      "execution_count": null,
      "outputs": [
        {
          "output_type": "stream",
          "name": "stdout",
          "text": [
            "['cherry', 'orange', 'kiwi', 'melon', 'mango']\n"
          ]
        }
      ]
    },
    {
      "cell_type": "code",
      "source": [
        "thislist = [\"apple\", \"banana\", \"cherry\", \"orange\", \"kiwi\", \"melon\", \"mango\"]\n",
        "print(thislist[-4:-1]) # range of index: -4 to <-1 i.e. -4 -3 -2"
      ],
      "metadata": {
        "colab": {
          "base_uri": "https://localhost:8080/"
        },
        "id": "7F5ALCKb6DJY",
        "outputId": "db894bf3-9c45-4a34-a95b-79dc283f69ef"
      },
      "execution_count": null,
      "outputs": [
        {
          "output_type": "stream",
          "name": "stdout",
          "text": [
            "['orange', 'kiwi', 'melon']\n"
          ]
        }
      ]
    },
    {
      "cell_type": "markdown",
      "source": [
        "**Change item value in the list**"
      ],
      "metadata": {
        "id": "cmzN9Ygc6qxK"
      }
    },
    {
      "cell_type": "code",
      "source": [
        "thislist = [\"apple\", \"banana\", \"cherry\"]\n",
        "thislist[2] = \"orange\" # put orange in number 2 index\n",
        "print(thislist) "
      ],
      "metadata": {
        "colab": {
          "base_uri": "https://localhost:8080/"
        },
        "id": "rpjxWATc6cvG",
        "outputId": "18a6e802-27ba-4531-cedc-130576817b71"
      },
      "execution_count": null,
      "outputs": [
        {
          "output_type": "stream",
          "name": "stdout",
          "text": [
            "['apple', 'banana', 'orange']\n"
          ]
        }
      ]
    },
    {
      "cell_type": "code",
      "source": [
        "thislist = [\"apple\", \"banana\", \"cherry\", \"orange\", \"kiwi\", \"mango\"]\n",
        "thislist[1:3] = [\"blackcurrant\", \"watermelon\"] #change value item within a specific range ,here range 1 to <3 i.e. 1 2\n",
        "print(thislist)"
      ],
      "metadata": {
        "colab": {
          "base_uri": "https://localhost:8080/"
        },
        "id": "dLF4W-Ah68Nx",
        "outputId": "eba9e1f7-57b3-4924-e2d2-65ddcab643b5"
      },
      "execution_count": null,
      "outputs": [
        {
          "output_type": "stream",
          "name": "stdout",
          "text": [
            "['apple', 'blackcurrant', 'watermelon', 'orange', 'kiwi', 'mango']\n"
          ]
        }
      ]
    },
    {
      "cell_type": "code",
      "source": [
        "thislist = [\"apple\", \"banana\", \"cherry\"]\n",
        "thislist[1:2] = [\"blackcurrant\", \"watermelon\"] #Change the second value by replacing it with two new values\n",
        "print(thislist)"
      ],
      "metadata": {
        "colab": {
          "base_uri": "https://localhost:8080/"
        },
        "id": "_M2zkpvT86wR",
        "outputId": "6d95ff98-2c70-4706-ec9a-bb1c6aa32585"
      },
      "execution_count": null,
      "outputs": [
        {
          "output_type": "stream",
          "name": "stdout",
          "text": [
            "['apple', 'blackcurrant', 'watermelon', 'cherry']\n"
          ]
        }
      ]
    },
    {
      "cell_type": "code",
      "source": [
        "thislist = [\"apple\", \"banana\", \"cherry\"]\n",
        "thislist[1:3] = [\"watermelon\"] #Change the second and third value by replacing it with one value\n",
        "print(thislist)"
      ],
      "metadata": {
        "colab": {
          "base_uri": "https://localhost:8080/"
        },
        "id": "DqWow6f_9Tqm",
        "outputId": "dfd751c7-8bf8-41e8-dbf2-142175526c67"
      },
      "execution_count": null,
      "outputs": [
        {
          "output_type": "stream",
          "name": "stdout",
          "text": [
            "['apple', 'watermelon']\n"
          ]
        }
      ]
    },
    {
      "cell_type": "markdown",
      "source": [
        "**insert item**"
      ],
      "metadata": {
        "id": "yghi04on-aog"
      }
    },
    {
      "cell_type": "code",
      "source": [
        "thislist = [\"apple\", \"banana\", \"cherry\"]\n",
        "thislist.insert(2, \"watermelon\") #insert \"watermelon\" in index 2\n",
        "print(thislist)"
      ],
      "metadata": {
        "colab": {
          "base_uri": "https://localhost:8080/"
        },
        "id": "8OqYCz4f9dv2",
        "outputId": "2f838e18-89ab-4287-92a2-a86bbe725adc"
      },
      "execution_count": null,
      "outputs": [
        {
          "output_type": "stream",
          "name": "stdout",
          "text": [
            "['apple', 'banana', 'watermelon', 'cherry']\n"
          ]
        }
      ]
    },
    {
      "cell_type": "markdown",
      "source": [
        "Add item"
      ],
      "metadata": {
        "id": "Jbp-ZzC-C5ZQ"
      }
    },
    {
      "cell_type": "code",
      "source": [
        "thislist = [\"apple\", \"banana\", \"cherry\"]\n",
        "thislist.append(\"orange\") #To add an item to the end of the list, use the append() method\n",
        "print(thislist)"
      ],
      "metadata": {
        "colab": {
          "base_uri": "https://localhost:8080/"
        },
        "id": "wxUoIAel-k9F",
        "outputId": "8b94ac22-490c-46c0-90b9-269564386d42"
      },
      "execution_count": null,
      "outputs": [
        {
          "output_type": "stream",
          "name": "stdout",
          "text": [
            "['apple', 'banana', 'cherry', 'orange']\n"
          ]
        }
      ]
    },
    {
      "cell_type": "code",
      "source": [
        "thislist = [\"apple\", \"banana\", \"cherry\"]\n",
        "thislist.insert(1, \"orange\") #The insert() method inserts an item at the specified index\n",
        "print(thislist)"
      ],
      "metadata": {
        "colab": {
          "base_uri": "https://localhost:8080/"
        },
        "id": "qOn88Od_DBz-",
        "outputId": "f40a9f01-a1d5-4ef0-adf7-f5cc68e775a5"
      },
      "execution_count": null,
      "outputs": [
        {
          "output_type": "stream",
          "name": "stdout",
          "text": [
            "['apple', 'orange', 'banana', 'cherry']\n"
          ]
        }
      ]
    },
    {
      "cell_type": "markdown",
      "source": [
        "**Extend List**"
      ],
      "metadata": {
        "id": "CWBuA15RDi7V"
      }
    },
    {
      "cell_type": "code",
      "source": [
        "thislist = [\"apple\", \"banana\", \"cherry\"]\n",
        "tropical = [\"mango\", \"pineapple\", \"papaya\"]\n",
        "thislist.extend(tropical) #To append elements from another list to the current list, use the extend() method.\n",
        "print(thislist)"
      ],
      "metadata": {
        "colab": {
          "base_uri": "https://localhost:8080/"
        },
        "id": "rnbHVUeIDnkr",
        "outputId": "14e115c9-e894-4843-aef5-4240b6e5102a"
      },
      "execution_count": null,
      "outputs": [
        {
          "output_type": "stream",
          "name": "stdout",
          "text": [
            "['apple', 'banana', 'cherry', 'mango', 'pineapple', 'papaya']\n"
          ]
        }
      ]
    },
    {
      "cell_type": "code",
      "source": [
        "thislist = [\"apple\", \"banana\", \"cherry\"]\n",
        "tropical = [\"mango\", \"pineapple\", \"papaya\"]\n",
        "tropical.extend(thislist) #To append elements from another list to the current list, use the extend() method.\n",
        "print(tropical)"
      ],
      "metadata": {
        "colab": {
          "base_uri": "https://localhost:8080/"
        },
        "id": "WKAk4tLTD24b",
        "outputId": "79286fc3-58bd-4000-992a-a080a8e30b53"
      },
      "execution_count": null,
      "outputs": [
        {
          "output_type": "stream",
          "name": "stdout",
          "text": [
            "['mango', 'pineapple', 'papaya', 'apple', 'banana', 'cherry']\n"
          ]
        }
      ]
    },
    {
      "cell_type": "markdown",
      "source": [
        "**Add elements of a tuple,set and dictionary to a list**   The extend() method not only append lists, but also append any iterable object like (tuples, sets, dictionaries etc.)."
      ],
      "metadata": {
        "id": "WILihNukEUwl"
      }
    },
    {
      "cell_type": "code",
      "source": [
        "thislist = [\"apple\", \"banana\", \"cherry\"]\n",
        "thistuple = (\"kiwi\", \"orange\")\n",
        "thislist.extend(thistuple)\n",
        "print(thislist)"
      ],
      "metadata": {
        "colab": {
          "base_uri": "https://localhost:8080/"
        },
        "id": "mpOR1JF8EFzj",
        "outputId": "b27682df-250f-4dc8-9673-6375d3e2f148"
      },
      "execution_count": null,
      "outputs": [
        {
          "output_type": "stream",
          "name": "stdout",
          "text": [
            "['apple', 'banana', 'cherry', 'kiwi', 'orange']\n"
          ]
        }
      ]
    },
    {
      "cell_type": "code",
      "source": [
        "thislist = [\"apple\", \"banana\", \"cherry\"]\n",
        "thisset = {\"kiwi\", \"orange\"}\n",
        "thislist.extend(thisset)\n",
        "print(thislist)"
      ],
      "metadata": {
        "colab": {
          "base_uri": "https://localhost:8080/"
        },
        "id": "DoFFZ_RFFE_b",
        "outputId": "94904559-8df3-42c3-bfca-9114644be7c0"
      },
      "execution_count": null,
      "outputs": [
        {
          "output_type": "stream",
          "name": "stdout",
          "text": [
            "['apple', 'banana', 'cherry', 'kiwi', 'orange']\n"
          ]
        }
      ]
    },
    {
      "cell_type": "code",
      "source": [
        "thislist = [\"apple\", \"banana\", \"cherry\"]\n",
        "thisdict = {\n",
        "  \"brand\": \"Ford\",\n",
        "  \"model\": \"Mustang\",\n",
        "  \"year\": 1964\n",
        "}\n",
        "thislist.extend(thisdict)\n",
        "print(thislist)"
      ],
      "metadata": {
        "colab": {
          "base_uri": "https://localhost:8080/"
        },
        "id": "-iValfXFFl3j",
        "outputId": "5928c954-ed6e-4374-9fbc-2d714359c369"
      },
      "execution_count": null,
      "outputs": [
        {
          "output_type": "stream",
          "name": "stdout",
          "text": [
            "['apple', 'banana', 'cherry', 'brand', 'model', 'year']\n"
          ]
        }
      ]
    },
    {
      "cell_type": "markdown",
      "source": [
        "**Remove List Items** "
      ],
      "metadata": {
        "id": "I0_H9BWnGSt_"
      }
    },
    {
      "cell_type": "code",
      "source": [
        "thislist = [\"apple\", \"banana\", \"cherry\"]\n",
        "thislist.remove(\"banana\") # *The remove() method removes the specified item*\n",
        "print(thislist)"
      ],
      "metadata": {
        "colab": {
          "base_uri": "https://localhost:8080/"
        },
        "id": "U6ZENNrNGJ9T",
        "outputId": "6ec39d1a-f46c-4bff-9ab0-ed7ebefb08cd"
      },
      "execution_count": null,
      "outputs": [
        {
          "output_type": "stream",
          "name": "stdout",
          "text": [
            "['apple', 'cherry']\n"
          ]
        }
      ]
    },
    {
      "cell_type": "markdown",
      "source": [
        "pop()"
      ],
      "metadata": {
        "id": "1-3MiNK7G3Xc"
      }
    },
    {
      "cell_type": "code",
      "source": [
        "thislist = [\"apple\", \"banana\", \"cherry\"]\n",
        "thislist.pop(1) #The pop() method removes the specified index\n",
        "print(thislist)"
      ],
      "metadata": {
        "colab": {
          "base_uri": "https://localhost:8080/"
        },
        "id": "gDtDFtXXG2Ld",
        "outputId": "dd4bc704-3880-448f-8de3-ce2eeadc1c64"
      },
      "execution_count": null,
      "outputs": [
        {
          "output_type": "stream",
          "name": "stdout",
          "text": [
            "['apple', 'cherry']\n"
          ]
        }
      ]
    },
    {
      "cell_type": "markdown",
      "source": [
        "If you do not specify the index, the pop() method removes the last item."
      ],
      "metadata": {
        "id": "nv9X7i9OHhxs"
      }
    },
    {
      "cell_type": "code",
      "source": [
        "thislist = [\"apple\", \"banana\", \"cherry\"]\n",
        "thislist.pop() #pop() method removes the last item\n",
        "print(thislist)"
      ],
      "metadata": {
        "colab": {
          "base_uri": "https://localhost:8080/"
        },
        "id": "WuB3EbTdHa0R",
        "outputId": "85ac28e0-8204-49f8-d313-48b5f22bd0f1"
      },
      "execution_count": null,
      "outputs": [
        {
          "output_type": "stream",
          "name": "stdout",
          "text": [
            "['apple', 'banana']\n"
          ]
        }
      ]
    },
    {
      "cell_type": "markdown",
      "source": [
        "The del keyword also removes the specified index"
      ],
      "metadata": {
        "id": "lIRYZ0YJHwwT"
      }
    },
    {
      "cell_type": "code",
      "source": [
        "thislist = [\"apple\", \"banana\", \"cherry\"]\n",
        "del thislist[-1] #Remove the last item\n",
        "print(thislist)\n"
      ],
      "metadata": {
        "colab": {
          "base_uri": "https://localhost:8080/"
        },
        "id": "cARBB9fKHrhJ",
        "outputId": "e7966149-9216-4ea3-bc07-8035ee328d0e"
      },
      "execution_count": null,
      "outputs": [
        {
          "output_type": "stream",
          "name": "stdout",
          "text": [
            "['apple', 'banana']\n"
          ]
        }
      ]
    },
    {
      "cell_type": "code",
      "source": [
        "thislist = [\"apple\", \"banana\", \"cherry\"]\n",
        "del thislist[0] #Remove the first item\n",
        "print(thislist)"
      ],
      "metadata": {
        "colab": {
          "base_uri": "https://localhost:8080/"
        },
        "id": "Fo7nmRh0IKHa",
        "outputId": "7cdad787-62ed-4e09-cdd9-f5648826a5c6"
      },
      "execution_count": null,
      "outputs": [
        {
          "output_type": "stream",
          "name": "stdout",
          "text": [
            "['banana', 'cherry']\n"
          ]
        }
      ]
    },
    {
      "cell_type": "code",
      "source": [
        "thislist = [\"apple\", \"banana\", \"cherry\"]\n",
        "del thislist[:] #Remove the all item like clear method\n",
        "print(thislist)"
      ],
      "metadata": {
        "colab": {
          "base_uri": "https://localhost:8080/"
        },
        "id": "W8RIbeD1Iayy",
        "outputId": "c78408a5-abc8-472e-b21e-c6759ffa091d"
      },
      "execution_count": null,
      "outputs": [
        {
          "output_type": "stream",
          "name": "stdout",
          "text": [
            "[]\n"
          ]
        }
      ]
    },
    {
      "cell_type": "code",
      "source": [
        "thislist = [\"apple\", \"banana\", \"cherry\"]\n",
        "del thislist #Delete the entire list\n",
        "#print(thislist)"
      ],
      "metadata": {
        "id": "7nMvlejtIrYM"
      },
      "execution_count": null,
      "outputs": []
    },
    {
      "cell_type": "markdown",
      "source": [
        "**Clear the List**"
      ],
      "metadata": {
        "id": "HhFf7Ms5JLGt"
      }
    },
    {
      "cell_type": "code",
      "source": [
        "thislist = [\"apple\", \"banana\", \"cherry\"]\n",
        "thislist.clear() #Clear the list content\n",
        "print(thislist)"
      ],
      "metadata": {
        "colab": {
          "base_uri": "https://localhost:8080/"
        },
        "id": "FIukjT33Itja",
        "outputId": "8885478c-ce60-4505-99b6-c41ddfe6b97b"
      },
      "execution_count": null,
      "outputs": [
        {
          "output_type": "stream",
          "name": "stdout",
          "text": [
            "[]\n"
          ]
        }
      ]
    },
    {
      "cell_type": "markdown",
      "source": [
        "**Sort Lists**"
      ],
      "metadata": {
        "id": "JM8RtvNuJjbu"
      }
    },
    {
      "cell_type": "markdown",
      "source": [
        "*List objects have a sort() method that will sort the list alphanumerically, ascending, by default*"
      ],
      "metadata": {
        "id": "sttJifGM0wC5"
      }
    },
    {
      "cell_type": "code",
      "source": [
        "thislist = [\"orange\", \"mango\", \"kiwi\", \"pineapple\", \"banana\"]\n",
        "thislist.sort()\n",
        "print(thislist)"
      ],
      "metadata": {
        "id": "CCtbsm4AJmCi",
        "colab": {
          "base_uri": "https://localhost:8080/"
        },
        "outputId": "d5c1e131-8fa1-4e0f-9493-dd8017eb3935"
      },
      "execution_count": null,
      "outputs": [
        {
          "output_type": "stream",
          "name": "stdout",
          "text": [
            "['banana', 'kiwi', 'mango', 'orange', 'pineapple']\n"
          ]
        }
      ]
    },
    {
      "cell_type": "code",
      "source": [
        "thislist = [100, 50, 65, 82, 23]\n",
        "thislist.sort() # sort numerically\n",
        "print(thislist)\n"
      ],
      "metadata": {
        "colab": {
          "base_uri": "https://localhost:8080/"
        },
        "id": "PpBLOn3J1SBF",
        "outputId": "030057e3-2944-44af-fed6-695aaa6c3641"
      },
      "execution_count": null,
      "outputs": [
        {
          "output_type": "stream",
          "name": "stdout",
          "text": [
            "[23, 50, 65, 82, 100]\n"
          ]
        }
      ]
    },
    {
      "cell_type": "markdown",
      "source": [
        "***Desending sorting***"
      ],
      "metadata": {
        "id": "Se1EnMl61t7I"
      }
    },
    {
      "cell_type": "code",
      "source": [
        "thislist = [\"orange\", \"mango\", \"kiwi\", \"pineapple\", \"banana\"]\n",
        "thislist.sort(reverse = True) # To sort descending, use the keyword argument reverse = True.>>\n",
        "print(thislist)"
      ],
      "metadata": {
        "colab": {
          "base_uri": "https://localhost:8080/"
        },
        "id": "61aWOl2T1X3v",
        "outputId": "5347fe0e-7c13-4631-a0dc-cea8a7e2f056"
      },
      "execution_count": null,
      "outputs": [
        {
          "output_type": "stream",
          "name": "stdout",
          "text": [
            "['pineapple', 'orange', 'mango', 'kiwi', 'banana']\n"
          ]
        }
      ]
    },
    {
      "cell_type": "code",
      "source": [
        "thislist = [100, 50, 65, 82, 23]\n",
        "thislist.sort(reverse = True)\n",
        "print(thislist)"
      ],
      "metadata": {
        "colab": {
          "base_uri": "https://localhost:8080/"
        },
        "id": "hsjlhOMo1qRu",
        "outputId": "95d82f32-ef79-4e79-9eee-80805443be27"
      },
      "execution_count": null,
      "outputs": [
        {
          "output_type": "stream",
          "name": "stdout",
          "text": [
            "[100, 82, 65, 50, 23]\n"
          ]
        }
      ]
    },
    {
      "cell_type": "markdown",
      "source": [
        "**Case insensetive sort**"
      ],
      "metadata": {
        "id": "qIBG-4At15xH"
      }
    },
    {
      "cell_type": "code",
      "source": [
        "thislist = [\"banana\", \"Orange\", \"Kiwi\", \"cherry\"]\n",
        "thislist.sort()\n",
        "print(thislist) # capital letter ASCII value < small letter ascii value...so consider the capital charachter in first"
      ],
      "metadata": {
        "colab": {
          "base_uri": "https://localhost:8080/"
        },
        "id": "Idq4Upeq1zhV",
        "outputId": "92758ab5-744e-4cbd-a77e-fdfd89fbaffb"
      },
      "execution_count": null,
      "outputs": [
        {
          "output_type": "stream",
          "name": "stdout",
          "text": [
            "['Banana', 'Kiwi', 'Orange', 'cherry']\n"
          ]
        }
      ]
    },
    {
      "cell_type": "markdown",
      "source": [
        "Perform a case-insensitive sort of the list"
      ],
      "metadata": {
        "id": "ibvXnMIN27BI"
      }
    },
    {
      "cell_type": "code",
      "source": [
        "thislist = [\"banana\", \"Orange\", \"Kiwi\", \"cherry\"]\n",
        "thislist.sort(key = str.lower)\n",
        "print(thislist)\n"
      ],
      "metadata": {
        "colab": {
          "base_uri": "https://localhost:8080/"
        },
        "id": "P8Kt6NkS3Da-",
        "outputId": "df2025c8-7d3f-4f9a-8c47-44d54136ffbc"
      },
      "execution_count": null,
      "outputs": [
        {
          "output_type": "stream",
          "name": "stdout",
          "text": [
            "['banana', 'cherry', 'Kiwi', 'Orange']\n"
          ]
        }
      ]
    },
    {
      "cell_type": "markdown",
      "source": [
        "Reverse Order"
      ],
      "metadata": {
        "id": "NudXDdls3VOf"
      }
    },
    {
      "cell_type": "code",
      "source": [
        "thislist = [\"banana\", \"Orange\", \"Kiwi\", \"cherry\"]\n",
        "thislist.reverse() #The reverse() method reverses the current sorting order of the elements\n",
        "print(thislist)"
      ],
      "metadata": {
        "colab": {
          "base_uri": "https://localhost:8080/"
        },
        "id": "QfKLkiHj3YGG",
        "outputId": "2192633a-5199-41e4-a389-330cd71d5fbe"
      },
      "execution_count": null,
      "outputs": [
        {
          "output_type": "stream",
          "name": "stdout",
          "text": [
            "['cherry', 'Kiwi', 'Orange', 'banana']\n"
          ]
        }
      ]
    },
    {
      "cell_type": "markdown",
      "source": [
        "Copy Lists"
      ],
      "metadata": {
        "id": "b8-OCub73k0A"
      }
    },
    {
      "cell_type": "code",
      "source": [
        "#Make a copy of a list with the copy() method:\n",
        "\n",
        "thislist = [\"apple\", \"banana\", \"cherry\"]\n",
        "mylist = thislist.copy()\n",
        "print(mylist)"
      ],
      "metadata": {
        "colab": {
          "base_uri": "https://localhost:8080/"
        },
        "id": "nbpkq3Ki3kB1",
        "outputId": "4fbceb04-cad5-4f75-c764-f809b3191d25"
      },
      "execution_count": null,
      "outputs": [
        {
          "output_type": "stream",
          "name": "stdout",
          "text": [
            "['apple', 'banana', 'cherry']\n"
          ]
        }
      ]
    },
    {
      "cell_type": "code",
      "source": [
        "#another way of copy list\n",
        "thislist = [\"apple\", \"banana\", \"cherry\"]\n",
        "mylist = list(thislist)\n",
        "print(mylist)\n"
      ],
      "metadata": {
        "colab": {
          "base_uri": "https://localhost:8080/"
        },
        "id": "3Gb2N_T-37V8",
        "outputId": "03825648-a83c-48f2-f16d-e3420bc94f76"
      },
      "execution_count": null,
      "outputs": [
        {
          "output_type": "stream",
          "name": "stdout",
          "text": [
            "['apple', 'banana', 'cherry']\n"
          ]
        }
      ]
    },
    {
      "cell_type": "code",
      "source": [
        "#Join two list:\n",
        "\n",
        "list1 = [\"ijaj\", \"bhai\", \"onek valo\"]\n",
        "list2 = [1, 2, 3]\n",
        "\n",
        "list3 = list1 + list2\n",
        "print(list3)"
      ],
      "metadata": {
        "colab": {
          "base_uri": "https://localhost:8080/"
        },
        "id": "k5B-Yivu4BMd",
        "outputId": "cbb03646-f7a4-499a-d7f7-9f75ae89d0b0"
      },
      "execution_count": null,
      "outputs": [
        {
          "output_type": "stream",
          "name": "stdout",
          "text": [
            "['ijaj', 'bhai', 'onek valo', 1, 2, 3]\n"
          ]
        }
      ]
    },
    {
      "cell_type": "code",
      "source": [
        "#Use the extend() method to add list2 at the end of list1:\n",
        "\n",
        "list1 = [\"ijaj\", \"bhai\", \"onek valo\"]\n",
        "list2 = [1, 2, 3]\n",
        "\n",
        "list2.extend(list1)\n",
        "print(list2)"
      ],
      "metadata": {
        "colab": {
          "base_uri": "https://localhost:8080/"
        },
        "id": "TY8khvp04U68",
        "outputId": "732c20da-56a7-4f69-d97e-807d6098ba48"
      },
      "execution_count": null,
      "outputs": [
        {
          "output_type": "stream",
          "name": "stdout",
          "text": [
            "[1, 2, 3, 'ijaj', 'bhai', 'onek valo']\n"
          ]
        }
      ]
    },
    {
      "cell_type": "markdown",
      "source": [
        "** SOME LIST METHODS**"
      ],
      "metadata": {
        "id": "AOtVE5Kd46qB"
      }
    },
    {
      "cell_type": "markdown",
      "source": [
        "**append ()**"
      ],
      "metadata": {
        "id": "9hj72J_q6YY2"
      }
    },
    {
      "cell_type": "code",
      "source": [
        "# Adds an element at the end of the list\n",
        "fruits = ['apple', 'banana', 'cherry']\n",
        "fruits.append(\"orange\")\n",
        "print(fruits)\n"
      ],
      "metadata": {
        "colab": {
          "base_uri": "https://localhost:8080/"
        },
        "id": "hXZFzovQ5C2s",
        "outputId": "84179441-9d81-4d58-9e94-3788641caf4b"
      },
      "execution_count": null,
      "outputs": [
        {
          "output_type": "stream",
          "name": "stdout",
          "text": [
            "['apple', 'banana', 'cherry', 'orange']\n"
          ]
        }
      ]
    },
    {
      "cell_type": "code",
      "source": [
        "# Add a list to a list\n",
        "a = [\"apple\", \"banana\", \"cherry\"]\n",
        "b = [\"Ford\", \"BMW\", \"Volvo\"]\n",
        "a.append(b) # acts like a=a.append(b)\n",
        "print(a)"
      ],
      "metadata": {
        "colab": {
          "base_uri": "https://localhost:8080/"
        },
        "id": "_Uf6TpNT5R0r",
        "outputId": "dce8a9c3-ec77-4117-99c4-e1e615cb6857"
      },
      "execution_count": null,
      "outputs": [
        {
          "output_type": "stream",
          "name": "stdout",
          "text": [
            "['apple', 'banana', 'cherry', ['Ford', 'BMW', 'Volvo']]\n"
          ]
        }
      ]
    },
    {
      "cell_type": "markdown",
      "source": [
        "clear() Method"
      ],
      "metadata": {
        "id": "F3rYG8V36tUG"
      }
    },
    {
      "cell_type": "code",
      "source": [
        "#Remove all elements from the fruits list:\n",
        "\n",
        "fruits = ['apple', 'banana', 'cherry', 'orange']\n",
        "\n",
        "fruits.clear()\n",
        "fruits"
      ],
      "metadata": {
        "colab": {
          "base_uri": "https://localhost:8080/"
        },
        "id": "45KvhO-Z6x0H",
        "outputId": "4b2b71a9-6d4b-4cf3-f8d1-23bf22e3d496"
      },
      "execution_count": null,
      "outputs": [
        {
          "output_type": "execute_result",
          "data": {
            "text/plain": [
              "[]"
            ]
          },
          "metadata": {},
          "execution_count": 34
        }
      ]
    },
    {
      "cell_type": "markdown",
      "source": [
        "**copy()**"
      ],
      "metadata": {
        "id": "QOq4eF1L7NRX"
      }
    },
    {
      "cell_type": "code",
      "source": [
        "#Copy the fruits list:\n",
        "\n",
        "fruits = ['apple', 'banana', 'cherry', 'orange']\n",
        "\n",
        "x = fruits.copy() \n",
        "\n",
        "y=fruits #another way of copy\n",
        "\n",
        "print(y)\n",
        "print(\"\\n\")\n",
        "print(x) "
      ],
      "metadata": {
        "colab": {
          "base_uri": "https://localhost:8080/"
        },
        "id": "INMNcN3Q6_a0",
        "outputId": "843e5e53-ad75-4f7a-e9ac-3feb484ee183"
      },
      "execution_count": null,
      "outputs": [
        {
          "output_type": "stream",
          "name": "stdout",
          "text": [
            "['apple', 'banana', 'cherry', 'orange']\n",
            "\n",
            "\n",
            "['apple', 'banana', 'cherry', 'orange']\n"
          ]
        }
      ]
    },
    {
      "cell_type": "markdown",
      "source": [
        "**count() Method**"
      ],
      "metadata": {
        "id": "HEcPJr2d9wk2"
      }
    },
    {
      "cell_type": "code",
      "source": [
        "#Return the number of times the value \"cherry\" appears in the fruits list\n",
        "\n",
        "fruits = ['apple', 'banana', 'cherry']\n",
        "\n",
        "x = fruits.count(\"cherry\") # count how many cherry in the fruits list\n",
        "print(x)"
      ],
      "metadata": {
        "colab": {
          "base_uri": "https://localhost:8080/"
        },
        "id": "_d-1ZNFk7dyj",
        "outputId": "2579d989-d51f-433e-9963-e8d75cd38421"
      },
      "execution_count": null,
      "outputs": [
        {
          "output_type": "stream",
          "name": "stdout",
          "text": [
            "1\n"
          ]
        }
      ]
    },
    {
      "cell_type": "code",
      "source": [
        "points = [1, 4, 2, 9, 7, 8, 9, 3, 1]\n",
        "\n",
        "x = points.count(9) # how many 9 in the list\n",
        "print(x)"
      ],
      "metadata": {
        "colab": {
          "base_uri": "https://localhost:8080/"
        },
        "id": "PcAkugUl-Cuq",
        "outputId": "174e783c-4a8e-4c78-b3ca-52f7f0ff7681"
      },
      "execution_count": null,
      "outputs": [
        {
          "output_type": "stream",
          "name": "stdout",
          "text": [
            "2\n"
          ]
        }
      ]
    },
    {
      "cell_type": "markdown",
      "source": [
        "**extend() method**"
      ],
      "metadata": {
        "id": "phMzVr5d-b0-"
      }
    },
    {
      "cell_type": "code",
      "source": [
        "#Add the elements of cars to the fruits list\n",
        "\n",
        "fruits = ['apple', 'banana', 'cherry']\n",
        "\n",
        "cars = ['Ford', 'BMW', 'Volvo']\n",
        "\n",
        "fruits.extend(cars)\n",
        "print(fruits)"
      ],
      "metadata": {
        "colab": {
          "base_uri": "https://localhost:8080/"
        },
        "id": "lZRRmLmG-V4a",
        "outputId": "7a2476ae-ae10-4b2a-b791-db7cd4304860"
      },
      "execution_count": null,
      "outputs": [
        {
          "output_type": "stream",
          "name": "stdout",
          "text": [
            "['apple', 'banana', 'cherry', 'Ford', 'BMW', 'Volvo']\n"
          ]
        }
      ]
    },
    {
      "cell_type": "code",
      "source": [
        "# Add a tuple to the fruits list:\n",
        "\n",
        "fruits = ['apple', 'banana', 'cherry']\n",
        "\n",
        "points = (1, 4, 5, 9)\n",
        "\n",
        "fruits.extend(points)\n",
        "print(fruits)\n",
        "\n"
      ],
      "metadata": {
        "colab": {
          "base_uri": "https://localhost:8080/"
        },
        "id": "VT7GiZmD-rkr",
        "outputId": "424c92f1-6c11-4b18-e47e-177455fbee3d"
      },
      "execution_count": null,
      "outputs": [
        {
          "output_type": "stream",
          "name": "stdout",
          "text": [
            "['apple', 'banana', 'cherry', 1, 4, 5, 9]\n"
          ]
        }
      ]
    },
    {
      "cell_type": "markdown",
      "source": [
        "**index() Method**"
      ],
      "metadata": {
        "id": "30usYzeu_ABG"
      }
    },
    {
      "cell_type": "code",
      "source": [
        "#What is the position of the value \"cherry\"\n",
        "\n",
        "fruits = ['apple', 'banana', 'cherry']\n",
        "\n",
        "x = fruits.index(\"cherry\") # index count from 0 1 2 3 4...............\n",
        "print(x)"
      ],
      "metadata": {
        "colab": {
          "base_uri": "https://localhost:8080/"
        },
        "id": "QVuu7yRr-7Ka",
        "outputId": "320e22c4-f39a-4d8c-9e62-4cd724f06535"
      },
      "execution_count": null,
      "outputs": [
        {
          "output_type": "stream",
          "name": "stdout",
          "text": [
            "2\n"
          ]
        }
      ]
    },
    {
      "cell_type": "code",
      "source": [
        "#What is the position of the value 32\n",
        "\n",
        "fruits = [4, 55, 64, 32, 16, 32]\n",
        "\n",
        "x = fruits.index(32) # if same number has multiple index then consider the first one\n",
        "print(x)"
      ],
      "metadata": {
        "colab": {
          "base_uri": "https://localhost:8080/"
        },
        "id": "tHqEIhAW_Gur",
        "outputId": "da24a646-ac6f-4970-b405-f59bc4d0328e"
      },
      "execution_count": null,
      "outputs": [
        {
          "output_type": "stream",
          "name": "stdout",
          "text": [
            "3\n"
          ]
        }
      ]
    },
    {
      "cell_type": "markdown",
      "source": [
        "**insert(position,element)**"
      ],
      "metadata": {
        "id": "ouYSsHTz_3LO"
      }
    },
    {
      "cell_type": "code",
      "source": [
        "#Insert the value \"orange\" as the second element of the fruit list:\n",
        "\n",
        "fruits = ['apple', 'banana', 'cherry']\n",
        "\n",
        "fruits.insert(1, \"orange\")\n",
        "print(fruits)\n"
      ],
      "metadata": {
        "colab": {
          "base_uri": "https://localhost:8080/"
        },
        "id": "fuIE_z-g_fDS",
        "outputId": "99d85331-2212-4611-e710-a8ad78aa1899"
      },
      "execution_count": null,
      "outputs": [
        {
          "output_type": "stream",
          "name": "stdout",
          "text": [
            "['apple', 'orange', 'banana', 'cherry']\n"
          ]
        }
      ]
    },
    {
      "cell_type": "markdown",
      "source": [
        "**pop() method**"
      ],
      "metadata": {
        "id": "4iXALnjOAL3c"
      }
    },
    {
      "cell_type": "code",
      "source": [
        "#Remove the second element (i.e. index 1 element) of the fruit list:\n",
        "\n",
        "fruits = ['apple', 'banana', 'cherry']\n",
        "\n",
        "fruits.pop(1)\n",
        "print(fruits)\n",
        "\n",
        "#Return the removed element:\n",
        "\n",
        "fruits = ['apple', 'banana', 'cherry']\n",
        "\n",
        "x = fruits.pop(1)\n",
        "print(\"\\n\"+ x) "
      ],
      "metadata": {
        "colab": {
          "base_uri": "https://localhost:8080/"
        },
        "id": "GpnkyRJTADGj",
        "outputId": "96440ada-905c-410d-eb7e-e78ceb08782e"
      },
      "execution_count": null,
      "outputs": [
        {
          "output_type": "stream",
          "name": "stdout",
          "text": [
            "['apple', 'cherry']\n",
            "\n",
            "banana\n"
          ]
        }
      ]
    },
    {
      "cell_type": "markdown",
      "source": [
        "** remove() Method** "
      ],
      "metadata": {
        "id": "SCqINeBDBVof"
      }
    },
    {
      "cell_type": "code",
      "source": [
        "#Remove the \"banana\" element of the fruit list\n",
        "\n",
        "fruits = ['apple', 'banana', 'cherry']\n",
        "\n",
        "fruits.remove(\"banana\")\n",
        "print(fruits)"
      ],
      "metadata": {
        "colab": {
          "base_uri": "https://localhost:8080/"
        },
        "id": "h7kvBleiAn4a",
        "outputId": "95020102-c2ce-4c04-884a-d2e4c6c42f8e"
      },
      "execution_count": null,
      "outputs": [
        {
          "output_type": "stream",
          "name": "stdout",
          "text": [
            "['apple', 'cherry']\n"
          ]
        }
      ]
    },
    {
      "cell_type": "markdown",
      "source": [
        "**reverse() method**"
      ],
      "metadata": {
        "id": "UyZwhBuvBxTR"
      }
    },
    {
      "cell_type": "code",
      "source": [
        "#Reverse the order of the fruit list\n",
        "\n",
        "fruits = ['apple', 'banana', 'cherry']\n",
        "\n",
        "fruits.reverse()\n",
        "print(fruits)"
      ],
      "metadata": {
        "colab": {
          "base_uri": "https://localhost:8080/"
        },
        "id": "z0N9J1WGBd06",
        "outputId": "8b13ba51-1c0a-4570-b7ae-7f86ecd0f58b"
      },
      "execution_count": null,
      "outputs": [
        {
          "output_type": "stream",
          "name": "stdout",
          "text": [
            "['cherry', 'banana', 'apple']\n"
          ]
        }
      ]
    },
    {
      "cell_type": "markdown",
      "source": [
        "**sort() Method**"
      ],
      "metadata": {
        "id": "xMvZfiTHCkh_"
      }
    },
    {
      "cell_type": "code",
      "source": [
        "#$Sort the list alphabetically\n",
        "\n",
        "cars = ['Ford', 'BMW', 'Volvo']\n",
        "\n",
        "cars.sort()\n",
        "print(cars)"
      ],
      "metadata": {
        "colab": {
          "base_uri": "https://localhost:8080/"
        },
        "id": "1Go-IFTaCmtq",
        "outputId": "91c9e159-6a6f-40d7-e8ea-7e571718e185"
      },
      "execution_count": null,
      "outputs": [
        {
          "output_type": "stream",
          "name": "stdout",
          "text": [
            "['BMW', 'Ford', 'Volvo']\n"
          ]
        }
      ]
    },
    {
      "cell_type": "code",
      "source": [
        "#Sort the list descending\n",
        "\n",
        "cars = ['Ford', 'BMW', 'Volvo']\n",
        "\n",
        "cars.sort(reverse=True)\n",
        "print(cars)"
      ],
      "metadata": {
        "colab": {
          "base_uri": "https://localhost:8080/"
        },
        "id": "tpe5Ac1yCy7M",
        "outputId": "0b2c7c76-3554-4a80-c20a-539c6c76e262"
      },
      "execution_count": null,
      "outputs": [
        {
          "output_type": "stream",
          "name": "stdout",
          "text": [
            "['Volvo', 'Ford', 'BMW']\n"
          ]
        }
      ]
    },
    {
      "cell_type": "markdown",
      "source": [
        "# THANK YOU SO MUCH VAIYYA ✌\n",
        "\n",
        "\n",
        "\n",
        "\n"
      ],
      "metadata": {
        "id": "YVlKB-kKDR9u"
      }
    }
  ]
}
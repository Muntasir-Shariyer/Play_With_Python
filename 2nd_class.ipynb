{
  "nbformat": 4,
  "nbformat_minor": 0,
  "metadata": {
    "colab": {
      "provenance": [],
      "toc_visible": true
    },
    "kernelspec": {
      "name": "python3",
      "display_name": "Python 3"
    },
    "language_info": {
      "name": "python"
    }
  },
  "cells": [
    {
      "cell_type": "markdown",
      "source": [
        "# **2nd class**"
      ],
      "metadata": {
        "id": "Xz0U0CeVMcva"
      }
    },
    {
      "cell_type": "markdown",
      "source": [
        "**STRING**"
      ],
      "metadata": {
        "id": "Exddt7bi_c0g"
      }
    },
    {
      "cell_type": "code",
      "source": [
        "print(\"Hello\")\n",
        "print('Hello')\n"
      ],
      "metadata": {
        "id": "qYZp5STnM_GR",
        "colab": {
          "base_uri": "https://localhost:8080/"
        },
        "outputId": "80e24777-7390-44f4-e8c0-bfb6cb1f2959"
      },
      "execution_count": null,
      "outputs": [
        {
          "output_type": "stream",
          "name": "stdout",
          "text": [
            "Hello\n",
            "Hello\n"
          ]
        }
      ]
    },
    {
      "cell_type": "code",
      "source": [
        "a = \"Hello\"\n",
        "print(a)"
      ],
      "metadata": {
        "colab": {
          "base_uri": "https://localhost:8080/"
        },
        "id": "GfunefZB_nKI",
        "outputId": "4e3a516a-0305-4245-cba5-ca8639a35e0b"
      },
      "execution_count": null,
      "outputs": [
        {
          "output_type": "stream",
          "name": "stdout",
          "text": [
            "Hello\n"
          ]
        }
      ]
    },
    {
      "cell_type": "code",
      "source": [
        "a =\"\"\"Lorem ipsum dolor sit amet,\n",
        "consectetur adipiscing elit,\n",
        "sed do eiusmod tempor incididunt\n",
        "ut labore et dolore magna aliqua.\"\"\"\n",
        "print(a)"
      ],
      "metadata": {
        "colab": {
          "base_uri": "https://localhost:8080/"
        },
        "id": "h-fPPiiu_qCX",
        "outputId": "70fa57dc-d9a2-4586-c084-151e6c9b04ef"
      },
      "execution_count": null,
      "outputs": [
        {
          "output_type": "stream",
          "name": "stdout",
          "text": [
            "Lorem ipsum dolor sit amet,\n",
            "consectetur adipiscing elit,\n",
            "sed do eiusmod tempor incididunt\n",
            "ut labore et dolore magna aliqua.\n"
          ]
        }
      ]
    },
    {
      "cell_type": "code",
      "source": [
        "a = '''Lorem ipsum dolor sit amet,\n",
        "consectetur adipiscing elit,\n",
        "sed do eiusmod tempor incididunt\n",
        "ut labore et dolore magna aliqua.'''\n",
        "print(a)"
      ],
      "metadata": {
        "colab": {
          "base_uri": "https://localhost:8080/"
        },
        "id": "AgUzdqwY_qMu",
        "outputId": "c11ee99e-1fc5-4eea-e500-b7a5cbfd2c0d"
      },
      "execution_count": null,
      "outputs": [
        {
          "output_type": "stream",
          "name": "stdout",
          "text": [
            "Lorem ipsum dolor sit amet,\n",
            "consectetur adipiscing elit,\n",
            "sed do eiusmod tempor incididunt\n",
            "ut labore et dolore magna aliqua.\n"
          ]
        }
      ]
    },
    {
      "cell_type": "code",
      "source": [
        "a = \"Hello, World!\"\n",
        "print(a[2])"
      ],
      "metadata": {
        "colab": {
          "base_uri": "https://localhost:8080/"
        },
        "id": "V_JUO5r2_qQC",
        "outputId": "7b3e20c7-b613-438d-bd55-7c0212f8f4c5"
      },
      "execution_count": null,
      "outputs": [
        {
          "output_type": "stream",
          "name": "stdout",
          "text": [
            "l\n"
          ]
        }
      ]
    },
    {
      "cell_type": "code",
      "source": [
        "a = \"Hello, World!\"\n",
        "print(len(a))"
      ],
      "metadata": {
        "colab": {
          "base_uri": "https://localhost:8080/"
        },
        "id": "SzvzisaE_qTK",
        "outputId": "348f5578-060a-44b7-9e20-d069e00c60cc"
      },
      "execution_count": null,
      "outputs": [
        {
          "output_type": "stream",
          "name": "stdout",
          "text": [
            "13\n"
          ]
        }
      ]
    },
    {
      "cell_type": "code",
      "source": [
        "txt = \"The best things in life are free!\"\n",
        "print(\"free\" in txt)"
      ],
      "metadata": {
        "colab": {
          "base_uri": "https://localhost:8080/"
        },
        "id": "yUVWFb8N_qWX",
        "outputId": "7b26700a-5528-4dfb-da58-cd0a16d5fb13"
      },
      "execution_count": null,
      "outputs": [
        {
          "output_type": "stream",
          "name": "stdout",
          "text": [
            "True\n"
          ]
        }
      ]
    },
    {
      "cell_type": "code",
      "source": [
        "txt = \"The best things in life are free!\"\n",
        "print(\"expensive\" not in txt)"
      ],
      "metadata": {
        "colab": {
          "base_uri": "https://localhost:8080/"
        },
        "id": "wqI5C4Lq_qaX",
        "outputId": "829244c6-c9ce-425a-c8cf-fd300c63a2a6"
      },
      "execution_count": null,
      "outputs": [
        {
          "output_type": "stream",
          "name": "stdout",
          "text": [
            "True\n"
          ]
        }
      ]
    },
    {
      "cell_type": "markdown",
      "source": [
        "**STRING SLICING**"
      ],
      "metadata": {
        "id": "-hyPCDLuBJXv"
      }
    },
    {
      "cell_type": "code",
      "source": [
        "b = \"Hello, World!\"\n",
        "print(b[1:5])"
      ],
      "metadata": {
        "colab": {
          "base_uri": "https://localhost:8080/"
        },
        "id": "ojJLRz0d_qdJ",
        "outputId": "0d7cca50-11d3-47cc-9cbe-4848f4b8ddd4"
      },
      "execution_count": null,
      "outputs": [
        {
          "output_type": "stream",
          "name": "stdout",
          "text": [
            "ello\n"
          ]
        }
      ]
    },
    {
      "cell_type": "markdown",
      "source": [
        "**Slice From the Start**"
      ],
      "metadata": {
        "id": "6MpE51ugBaHu"
      }
    },
    {
      "cell_type": "code",
      "source": [
        "b = \"Hello, World!\"\n",
        "print(b[:5])\n"
      ],
      "metadata": {
        "colab": {
          "base_uri": "https://localhost:8080/"
        },
        "id": "1jG_8H3s_qgg",
        "outputId": "45d3e306-38c0-4c42-9924-9bcab44ab3cf"
      },
      "execution_count": null,
      "outputs": [
        {
          "output_type": "stream",
          "name": "stdout",
          "text": [
            "Hello\n"
          ]
        }
      ]
    },
    {
      "cell_type": "code",
      "source": [
        "b = \"Hello, World!\"\n",
        "print(b[:])"
      ],
      "metadata": {
        "colab": {
          "base_uri": "https://localhost:8080/"
        },
        "id": "MlnlKiQ__qix",
        "outputId": "2ea28c8a-c3c4-4733-eeec-7e95be8e321f"
      },
      "execution_count": null,
      "outputs": [
        {
          "output_type": "stream",
          "name": "stdout",
          "text": [
            "Hello, World!\n"
          ]
        }
      ]
    },
    {
      "cell_type": "markdown",
      "source": [
        "**Slice To the End**"
      ],
      "metadata": {
        "id": "idtvDFgKBugF"
      }
    },
    {
      "cell_type": "code",
      "source": [
        "b = \"Hello, World!\"\n",
        "print(b[6:])"
      ],
      "metadata": {
        "colab": {
          "base_uri": "https://localhost:8080/"
        },
        "id": "4pKjKbI1BrBn",
        "outputId": "8a493101-4f42-41d1-ee11-878f4cba98b7"
      },
      "execution_count": null,
      "outputs": [
        {
          "output_type": "stream",
          "name": "stdout",
          "text": [
            " World!\n"
          ]
        }
      ]
    },
    {
      "cell_type": "markdown",
      "source": [
        "**Negative Indexing**"
      ],
      "metadata": {
        "id": "Q-C7dOc-CDeI"
      }
    },
    {
      "cell_type": "code",
      "source": [
        "b = \"Hello, World!\"\n",
        "print(b[-6:-1])\n"
      ],
      "metadata": {
        "colab": {
          "base_uri": "https://localhost:8080/"
        },
        "id": "oAXU_ObUBrPt",
        "outputId": "634f1498-95fa-40d3-bd2e-d84bbac638d6"
      },
      "execution_count": null,
      "outputs": [
        {
          "output_type": "stream",
          "name": "stdout",
          "text": [
            "World\n"
          ]
        }
      ]
    },
    {
      "cell_type": "markdown",
      "source": [
        "**Upper Case**"
      ],
      "metadata": {
        "id": "6FMtImp8CppO"
      }
    },
    {
      "cell_type": "code",
      "source": [
        "a = \"\"\"Hello, World!\n",
        "       Welcome to Data Nerd\"\"\"\n",
        "print(a.upper())"
      ],
      "metadata": {
        "colab": {
          "base_uri": "https://localhost:8080/"
        },
        "id": "S4RlHb4yBrTN",
        "outputId": "7f601487-256f-44c3-b49f-29b6e8242de8"
      },
      "execution_count": null,
      "outputs": [
        {
          "output_type": "stream",
          "name": "stdout",
          "text": [
            "HELLO, WORLD!\n",
            "       WELCOME TO DATA NERD\n"
          ]
        }
      ]
    },
    {
      "cell_type": "markdown",
      "source": [
        "**Lower Case**"
      ],
      "metadata": {
        "id": "-0CmR3Y6DMXu"
      }
    },
    {
      "cell_type": "code",
      "source": [
        "\"\"\"Hello, World!\n",
        "       Welcome to Data Nerd\"\"\"\n",
        "print(a.lower())"
      ],
      "metadata": {
        "colab": {
          "base_uri": "https://localhost:8080/"
        },
        "id": "E9lKRe57BrYl",
        "outputId": "ab794934-6c5b-4371-92c0-d40e511488b5"
      },
      "execution_count": null,
      "outputs": [
        {
          "output_type": "stream",
          "name": "stdout",
          "text": [
            "hello, world!\n",
            "       welcome to data nerd\n"
          ]
        }
      ]
    },
    {
      "cell_type": "markdown",
      "source": [
        "**Remove Whitespace**"
      ],
      "metadata": {
        "id": "t4rxsH4eDgzG"
      }
    },
    {
      "cell_type": "code",
      "source": [
        "a = \"     Hello, World!     \"\n",
        "print(a.strip()) # returns \"Hello, World!\""
      ],
      "metadata": {
        "colab": {
          "base_uri": "https://localhost:8080/"
        },
        "id": "uYUEUA1MDg-O",
        "outputId": "bfab34da-2f8f-469b-a6b2-5bf07fbb8048"
      },
      "execution_count": null,
      "outputs": [
        {
          "output_type": "stream",
          "name": "stdout",
          "text": [
            "Hello, World!\n"
          ]
        }
      ]
    },
    {
      "cell_type": "markdown",
      "source": [
        "**Replace String**"
      ],
      "metadata": {
        "id": "0a7j6Xl9DzE2"
      }
    },
    {
      "cell_type": "code",
      "source": [
        "a = \"Hello World!\"\n",
        "print(a.replace(\"Hello\", \"WELCOME TO THE\"))"
      ],
      "metadata": {
        "colab": {
          "base_uri": "https://localhost:8080/"
        },
        "id": "naGsEA_GD6ks",
        "outputId": "f05f921c-01e6-4718-a9f4-d17ac370624b"
      },
      "execution_count": null,
      "outputs": [
        {
          "output_type": "stream",
          "name": "stdout",
          "text": [
            "WELCOME TO THE World!\n"
          ]
        }
      ]
    },
    {
      "cell_type": "markdown",
      "source": [
        "**SPLIT STRING**"
      ],
      "metadata": {
        "id": "7bT-8zf5Exem"
      }
    },
    {
      "cell_type": "code",
      "source": [
        "a = \"Hello, World!,I,AM,HERE\"\n",
        "print(a.split(\",\")) # returns ['Hello', ' World!']"
      ],
      "metadata": {
        "colab": {
          "base_uri": "https://localhost:8080/"
        },
        "id": "nt60_2r4FA9V",
        "outputId": "58c53211-371c-46f2-8b91-7cbe1e4e9127"
      },
      "execution_count": null,
      "outputs": [
        {
          "output_type": "stream",
          "name": "stdout",
          "text": [
            "['Hello', ' World!', 'I', 'AM', 'HERE']\n"
          ]
        }
      ]
    },
    {
      "cell_type": "code",
      "source": [
        "a = \"Hello, World!,I,AM,HERE\"\n",
        "print(a.split(\"****\")) # returns ['Hello', ' World!']"
      ],
      "metadata": {
        "colab": {
          "base_uri": "https://localhost:8080/"
        },
        "id": "qqv3shCEFqiY",
        "outputId": "94314445-a8b1-4804-d8df-19348846b236"
      },
      "execution_count": null,
      "outputs": [
        {
          "output_type": "stream",
          "name": "stdout",
          "text": [
            "['Hello, World!,I,AM,HERE']\n"
          ]
        }
      ]
    },
    {
      "cell_type": "markdown",
      "source": [
        "**STRING_CONCATENATION**"
      ],
      "metadata": {
        "id": "tBrelnCDFzXX"
      }
    },
    {
      "cell_type": "code",
      "source": [
        "a = \"Hello\"\n",
        "b = \"World\"\n",
        "c = a + (\" \") + b + (\"   ----   I am Muntasir Shariyer :D\")\n",
        "print(c)"
      ],
      "metadata": {
        "colab": {
          "base_uri": "https://localhost:8080/"
        },
        "id": "LOY8QzpaGIos",
        "outputId": "e8a4dcea-90df-4c49-cb10-b1755487b0a3"
      },
      "execution_count": null,
      "outputs": [
        {
          "output_type": "stream",
          "name": "stdout",
          "text": [
            "Hello World   ----   I am Muntasir Shariyer :D\n"
          ]
        }
      ]
    },
    {
      "cell_type": "markdown",
      "source": [
        "**String Format**"
      ],
      "metadata": {
        "id": "IlEbvoriHcmf"
      }
    },
    {
      "cell_type": "code",
      "source": [
        "age = \"36\"\n",
        "txt = \"My name is John, I am \" + age + (\" years old\")\n",
        "print(txt)"
      ],
      "metadata": {
        "colab": {
          "base_uri": "https://localhost:8080/"
        },
        "id": "4s3gVAVBHsfd",
        "outputId": "065bc2a9-33ec-45b3-fdde-fca32d683f60"
      },
      "execution_count": null,
      "outputs": [
        {
          "output_type": "stream",
          "name": "stdout",
          "text": [
            "My name is John, I am 36 years old\n"
          ]
        }
      ]
    },
    {
      "cell_type": "code",
      "source": [
        "age = 36\n",
        "txt = \"My name is John, I am \" + age #can only concatenate str (not \"int\") to str\n",
        "print(txt)\n",
        "\n",
        "#look at the next cell"
      ],
      "metadata": {
        "colab": {
          "base_uri": "https://localhost:8080/",
          "height": 235
        },
        "id": "3YxSpNGeIKR3",
        "outputId": "998ee965-b9b2-4d60-db3b-882909fcdae7"
      },
      "execution_count": null,
      "outputs": [
        {
          "output_type": "error",
          "ename": "TypeError",
          "evalue": "ignored",
          "traceback": [
            "\u001b[0;31m---------------------------------------------------------------------------\u001b[0m",
            "\u001b[0;31mTypeError\u001b[0m                                 Traceback (most recent call last)",
            "\u001b[0;32m<ipython-input-59-be675000ff5c>\u001b[0m in \u001b[0;36m<module>\u001b[0;34m\u001b[0m\n\u001b[1;32m      1\u001b[0m \u001b[0mage\u001b[0m \u001b[0;34m=\u001b[0m \u001b[0;36m36\u001b[0m\u001b[0;34m\u001b[0m\u001b[0;34m\u001b[0m\u001b[0m\n\u001b[0;32m----> 2\u001b[0;31m \u001b[0mtxt\u001b[0m \u001b[0;34m=\u001b[0m \u001b[0;34m\"My name is John, I am \"\u001b[0m \u001b[0;34m+\u001b[0m \u001b[0mage\u001b[0m \u001b[0;31m#can only concatenate str (not \"int\") to str\u001b[0m\u001b[0;34m\u001b[0m\u001b[0;34m\u001b[0m\u001b[0m\n\u001b[0m\u001b[1;32m      3\u001b[0m \u001b[0mprint\u001b[0m\u001b[0;34m(\u001b[0m\u001b[0mtxt\u001b[0m\u001b[0;34m)\u001b[0m\u001b[0;34m\u001b[0m\u001b[0;34m\u001b[0m\u001b[0m\n\u001b[1;32m      4\u001b[0m \u001b[0;34m\u001b[0m\u001b[0m\n\u001b[1;32m      5\u001b[0m \u001b[0;31m#look at the next cell\u001b[0m\u001b[0;34m\u001b[0m\u001b[0;34m\u001b[0m\u001b[0;34m\u001b[0m\u001b[0m\n",
            "\u001b[0;31mTypeError\u001b[0m: can only concatenate str (not \"int\") to str"
          ]
        }
      ]
    },
    {
      "cell_type": "code",
      "source": [
        "age = str(36) # or ( age = \"36\" )  # convert int(age) to str(age)... WoW now it's running, No M-A-M-L-A in this time :p\n",
        "txt = \"My name is John, I am \" + age\n",
        "print(txt)"
      ],
      "metadata": {
        "colab": {
          "base_uri": "https://localhost:8080/"
        },
        "id": "fmZVW_IDIg7V",
        "outputId": "704c85e1-0970-44f9-baa9-b3d41bf3dc37"
      },
      "execution_count": null,
      "outputs": [
        {
          "output_type": "stream",
          "name": "stdout",
          "text": [
            "My name is John, I am 36\n"
          ]
        }
      ]
    },
    {
      "cell_type": "markdown",
      "source": [
        "**FANCIER OUTPUT FORMATTING**"
      ],
      "metadata": {
        "id": "fGNwqLMZKI9U"
      }
    },
    {
      "cell_type": "code",
      "source": [
        "country='QATAR'\n",
        "year = 2022\n",
        "event='WORLD CUP'\n",
        "f'FIIFA {event} {year} in {country}'"
      ],
      "metadata": {
        "colab": {
          "base_uri": "https://localhost:8080/",
          "height": 36
        },
        "id": "ViU5-M1tKH1g",
        "outputId": "d8c48c9f-d8de-459e-fd6d-1e8271ffa29e"
      },
      "execution_count": null,
      "outputs": [
        {
          "output_type": "execute_result",
          "data": {
            "text/plain": [
              "'FIIFA WORLD CUP 2022 in QATAR'"
            ],
            "application/vnd.google.colaboratory.intrinsic+json": {
              "type": "string"
            }
          },
          "metadata": {},
          "execution_count": 68
        }
      ]
    },
    {
      "cell_type": "markdown",
      "source": [
        "**Use the format() method to insert numbers into strings:**"
      ],
      "metadata": {
        "id": "m-dzFcX1MLv1"
      }
    },
    {
      "cell_type": "code",
      "source": [
        "age = 36\n",
        "txt = \"My name is John, and I am {}\"\n",
        "print(txt.format(age))"
      ],
      "metadata": {
        "colab": {
          "base_uri": "https://localhost:8080/"
        },
        "id": "JVRF96MDMOqb",
        "outputId": "622a1381-c7d9-4401-bb27-f1e76f8c2b89"
      },
      "execution_count": null,
      "outputs": [
        {
          "output_type": "stream",
          "name": "stdout",
          "text": [
            "My name is John, and I am 36\n"
          ]
        }
      ]
    },
    {
      "cell_type": "markdown",
      "source": [
        "**The format() method takes unlimited number of arguments, and are placed into the respective placeholders:**"
      ],
      "metadata": {
        "id": "iZRsxLPXPA7V"
      }
    },
    {
      "cell_type": "code",
      "source": [
        "quantity = 3\n",
        "item_no = 567\n",
        "price = 49.95\n",
        "myorder = \"I want {} pieces of item {} for {} dollars.\"\n",
        "print(myorder.format(quantity, item_no, price))"
      ],
      "metadata": {
        "colab": {
          "base_uri": "https://localhost:8080/"
        },
        "id": "AOnJyP6CPAfj",
        "outputId": "f3fa2993-e30d-48f9-d886-610db447f32b"
      },
      "execution_count": null,
      "outputs": [
        {
          "output_type": "stream",
          "name": "stdout",
          "text": [
            "I want 3 pieces of item 567 for 49.95 dollars.\n"
          ]
        }
      ]
    },
    {
      "cell_type": "markdown",
      "source": [
        "**PASS VALUE AS A TUPLE**"
      ],
      "metadata": {
        "id": "7AqC-sr-O428"
      }
    },
    {
      "cell_type": "code",
      "source": [
        "A = 'I'\n",
        "B = 'YOU'\n",
        "C = 'ME'\n",
        "\n",
        "print( \" %s  LOVE  %s\" %(A,B))\n",
        "print( \" %s  LOVE  %s\" %(B,C))"
      ],
      "metadata": {
        "colab": {
          "base_uri": "https://localhost:8080/"
        },
        "id": "mn7rIaryMa9E",
        "outputId": "b2b5f5ea-97b2-4e97-bc67-0cd68d8df715"
      },
      "execution_count": null,
      "outputs": [
        {
          "output_type": "stream",
          "name": "stdout",
          "text": [
            " I  LOVE  YOU\n",
            " YOU  LOVE  ME\n"
          ]
        }
      ]
    },
    {
      "cell_type": "markdown",
      "source": [
        "**You can use index numbers {0} to be sure the arguments are placed in the correct placeholders**"
      ],
      "metadata": {
        "id": "HLBU-t5iPmGr"
      }
    },
    {
      "cell_type": "code",
      "source": [
        "quantity = 3\n",
        "itemno = 567\n",
        "price = 49.95\n",
        "myorder = \"I want to pay {2} dollars for {0} pieces of item {1}.\" # index count from 0 1 2 3 4....\n",
        "print(myorder.format(quantity, itemno, price))"
      ],
      "metadata": {
        "colab": {
          "base_uri": "https://localhost:8080/"
        },
        "id": "ILBzI8YDPmQT",
        "outputId": "a01a1ca9-fe06-44cc-b930-72bcda747b5c"
      },
      "execution_count": null,
      "outputs": [
        {
          "output_type": "stream",
          "name": "stdout",
          "text": [
            "I want to pay 49.95 dollars for 3 pieces of item 567.\n"
          ]
        }
      ]
    },
    {
      "cell_type": "markdown",
      "source": [
        "#Escape Character\n",
        "** An escape character is a backslash \\ followed by the character you want to insert.**\n",
        "\n",
        "An example of an illegal character is a double quote inside a string that is surrounded by double quotes:"
      ],
      "metadata": {
        "id": "oVhNSh5kPmjs"
      }
    },
    {
      "cell_type": "code",
      "source": [
        " \"\"\"      \\ (\"start escaping...........\\ \" )end escaping....\n",
        "note: jeta theke escape korte chai~~~~ setar shurute and sesher age back slash dibo \"\"\" \n",
        "\n",
        "\n",
        "txt = \"We are the so-called \\\"Vikings\\\" from the north.\"\n",
        "print( txt )"
      ],
      "metadata": {
        "colab": {
          "base_uri": "https://localhost:8080/"
        },
        "id": "r8p5A2auPmrj",
        "outputId": "6631cb65-2cbe-4824-cbd6-b54ca5516dd3"
      },
      "execution_count": null,
      "outputs": [
        {
          "output_type": "stream",
          "name": "stdout",
          "text": [
            "We are the so-called \"Vikings\" from the north.\n"
          ]
        }
      ]
    },
    {
      "cell_type": "markdown",
      "source": [
        "escapping single quote.....single quote escape korte hole setar age just \\ dilei escape hye jabe"
      ],
      "metadata": {
        "id": "JfNAtfoWV7Vz"
      }
    },
    {
      "cell_type": "code",
      "source": [
        "txt = 'It\\'s alright.'\n",
        "print(txt) \n"
      ],
      "metadata": {
        "colab": {
          "base_uri": "https://localhost:8080/"
        },
        "id": "D5KgqJ9BV7ei",
        "outputId": "dc0121c9-747f-4694-b6d2-1f830794b635"
      },
      "execution_count": null,
      "outputs": [
        {
          "output_type": "stream",
          "name": "stdout",
          "text": [
            "It's alright.\n"
          ]
        }
      ]
    },
    {
      "cell_type": "markdown",
      "source": [
        "single back slash use korar jonno double back slash use korte hbe.."
      ],
      "metadata": {
        "id": "pjZDuH8mWs7c"
      }
    },
    {
      "cell_type": "code",
      "source": [
        "txt = \"This will insert one \\\\ (backslash).\"\n",
        "print(txt) "
      ],
      "metadata": {
        "colab": {
          "base_uri": "https://localhost:8080/"
        },
        "id": "O2ceYG-qW-oh",
        "outputId": "cbbd9bcb-40fd-4765-da83-5c51e0ac8a13"
      },
      "execution_count": null,
      "outputs": [
        {
          "output_type": "stream",
          "name": "stdout",
          "text": [
            "This will insert one \\ (backslash).\n"
          ]
        }
      ]
    },
    {
      "cell_type": "markdown",
      "source": [
        "For new line "
      ],
      "metadata": {
        "id": "x91A7KsdXDSp"
      }
    },
    {
      "cell_type": "code",
      "source": [
        "txt = \"Hello\\nWorld!\"\n",
        "print(txt) \n"
      ],
      "metadata": {
        "colab": {
          "base_uri": "https://localhost:8080/"
        },
        "id": "lDI8oyoOXDbK",
        "outputId": "1fd6f335-5eab-40f1-944f-7f15019488ee"
      },
      "execution_count": null,
      "outputs": [
        {
          "output_type": "stream",
          "name": "stdout",
          "text": [
            "Hello\n",
            "World!\n"
          ]
        }
      ]
    },
    {
      "cell_type": "markdown",
      "source": [
        "For carriage return ( bujte hbe vaiyyar kache...w3 er moto output show kore na )"
      ],
      "metadata": {
        "id": "rObiBdSDXP-7"
      }
    },
    {
      "cell_type": "code",
      "source": [
        "print('Python is included in CodeSpeedy\\r123456')"
      ],
      "metadata": {
        "colab": {
          "base_uri": "https://localhost:8080/"
        },
        "id": "XtlaIHsoXQGx",
        "outputId": "6f3882e6-b3dd-4ade-82c5-deeb38d9cf6c"
      },
      "execution_count": null,
      "outputs": [
        {
          "output_type": "stream",
          "name": "stdout",
          "text": [
            "Python is included in CodeSpeedy\r123456\n"
          ]
        }
      ]
    },
    {
      "cell_type": "markdown",
      "source": [
        "for tab ( 4 spaces )"
      ],
      "metadata": {
        "id": "FXn7cDGVY7Kp"
      }
    },
    {
      "cell_type": "code",
      "source": [
        "txt = \"Hello\\tWorld\\t!\"\n",
        "print(txt) \n"
      ],
      "metadata": {
        "colab": {
          "base_uri": "https://localhost:8080/"
        },
        "id": "lIbHw8-TY7jJ",
        "outputId": "356ea65d-e906-433b-8b58-1eead302b81e"
      },
      "execution_count": null,
      "outputs": [
        {
          "output_type": "stream",
          "name": "stdout",
          "text": [
            "Hello\tWorld\t!\n"
          ]
        }
      ]
    },
    {
      "cell_type": "markdown",
      "source": [
        "For erase one character(back_space)"
      ],
      "metadata": {
        "id": "o10HtEe0ZN-h"
      }
    },
    {
      "cell_type": "code",
      "source": [
        "#This example erases one character (backspace):\n",
        "txt = \"Hello...a\\bWorld!\" # ekhane a ta remove hye jabe cz \\b means pichoner ekta character remove hye jabe\n",
        "print(txt) \n"
      ],
      "metadata": {
        "colab": {
          "base_uri": "https://localhost:8080/"
        },
        "id": "Qx89ZbPSZOGB",
        "outputId": "2a2a958a-3e64-48f2-b2d6-4e16cb888b5f"
      },
      "execution_count": null,
      "outputs": [
        {
          "output_type": "stream",
          "name": "stdout",
          "text": [
            "Hello...a\bWorld!\n"
          ]
        }
      ]
    },
    {
      "cell_type": "markdown",
      "source": [
        "**#A backslash followed by three integers will result in a octal value:**"
      ],
      "metadata": {
        "id": "iVgzrmSxZ7Rj"
      }
    },
    {
      "cell_type": "code",
      "source": [
        "txt = \"\\110\\145\\154\\154\\157\" # here, 110=is a octal value of H similarly, 145=e,154=l.157=o \n",
        "print(txt) \n"
      ],
      "metadata": {
        "colab": {
          "base_uri": "https://localhost:8080/"
        },
        "id": "CNKMkJjQZ7av",
        "outputId": "f8a83cdd-5ae3-4c84-926a-e401c3952c0a"
      },
      "execution_count": null,
      "outputs": [
        {
          "output_type": "stream",
          "name": "stdout",
          "text": [
            "Hello\n"
          ]
        }
      ]
    },
    {
      "cell_type": "markdown",
      "source": [
        "**A backslash followed by an 'x' and a hex number represents a hex value:**"
      ],
      "metadata": {
        "id": "qN2iXqk5arZo"
      }
    },
    {
      "cell_type": "code",
      "source": [
        "txt = \"\\x48\\x65\\x6c\\x6c\\x6f\" # here~ x48 is hexadecimal value of H,similarly x65,x6c,xf are e,l,o\n",
        "print(txt) "
      ],
      "metadata": {
        "colab": {
          "base_uri": "https://localhost:8080/"
        },
        "id": "wZMW0yqqarix",
        "outputId": "f0d3b80e-c9f2-47cb-9633-a6ff59f78d45"
      },
      "execution_count": null,
      "outputs": [
        {
          "output_type": "stream",
          "name": "stdout",
          "text": [
            "Hello\n"
          ]
        }
      ]
    },
    {
      "cell_type": "markdown",
      "source": [
        "\\f denotes form feed. It is nothing but a page breaking ascii control character"
      ],
      "metadata": {
        "id": "DGHBFiQlbN-i"
      }
    },
    {
      "cell_type": "code",
      "source": [
        "x = 'hello\\fworld'\n",
        "print(x)"
      ],
      "metadata": {
        "colab": {
          "base_uri": "https://localhost:8080/"
        },
        "id": "N3QJwuQ_bOIK",
        "outputId": "e8fedcfd-7427-4b09-919d-fb699502c953"
      },
      "execution_count": null,
      "outputs": [
        {
          "output_type": "stream",
          "name": "stdout",
          "text": [
            "hello\fworld\n"
          ]
        }
      ]
    },
    {
      "cell_type": "markdown",
      "source": [
        "# Thank you so much vaiyya ⛲\n",
        "\n",
        "\n",
        "\n"
      ],
      "metadata": {
        "id": "ALIGMSmocpNC"
      }
    }
  ]
}